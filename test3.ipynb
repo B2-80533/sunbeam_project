{
 "cells": [
  {
   "cell_type": "code",
   "execution_count": 17,
   "id": "f99401ab-f7be-47cc-8e32-bbe4be2dec2e",
   "metadata": {},
   "outputs": [],
   "source": [
    "import numpy as np\n",
    "import tensorflow as tf\n",
    "import keras\n",
    "from tensorflow.keras.models import load_model\n",
    "from tensorflow.keras.utils import custom_object_scope\n",
    "from tensorflow.keras import backend as K"
   ]
  },
  {
   "cell_type": "code",
   "execution_count": 18,
   "id": "bff09b9a-5a99-442f-a71b-c8cbee6eaae0",
   "metadata": {},
   "outputs": [],
   "source": [
    "# Define the custom objects here\n",
    "class MyCustomLayer(tf.keras.layers.Layer):\n",
    "    def __init__(self, num_filters, kernel_size, **kwargs):\n",
    "        super(MyCustomLayer, self).__init__(**kwargs)\n",
    "        self.num_filters = num_filters\n",
    "        self.kernel_size = kernel_size\n",
    "        \n",
    "    def build(self, input_shape):\n",
    "        # Add custom code to build the layer\n",
    "        self.kernel = self.add_weight(name='kernel',\n",
    "                                      shape=(self.kernel_size, self.kernel_size, input_shape[-1], self.num_filters),\n",
    "                                      initializer='uniform',\n",
    "                                      trainable=True)\n",
    "\n",
    "    def call(self, inputs):\n",
    "        # Add custom code to compute the layer output\n",
    "        return tf.nn.conv2d(inputs, self.kernel, strides=(1, 1), padding='SAME')\n",
    "\n",
    "def f1(y_true, y_pred):\n",
    "    tp = K.sum(K.cast(y_true*y_pred, 'float'), axis=0)\n",
    "    fp = K.sum(K.cast((1-y_true)*y_pred, 'float'), axis=0)\n",
    "    fn = K.sum(K.cast(y_true*(1-y_pred), 'float'), axis=0)\n",
    "\n",
    "    p = tp / (tp + fp + K.epsilon())\n",
    "    r = tp / (tp + fn + K.epsilon())\n",
    "\n",
    "    f1 = 2*p*r / (p+r+K.epsilon())\n",
    "    f1 = tf.where(tf.math.is_nan(f1), tf.zeros_like(f1), f1)\n",
    "    return K.mean(f1)\n",
    "    \n",
    "# Register the custom objects\n",
    "custom_objects = {'MyCustomLayer': MyCustomLayer, 'f1': f1}\n",
    "\n",
    "# Load the model using custom_object_scope\n",
    "with custom_object_scope(custom_objects):\n",
    "    loaded_model = load_model('InceptionResNetV2.h5')"
   ]
  },
  {
   "cell_type": "code",
   "execution_count": 19,
   "id": "551e581a-15af-40ad-9694-b4a8da522458",
   "metadata": {},
   "outputs": [
    {
     "name": "stdout",
     "output_type": "stream",
     "text": [
      "Model: \"model\"\n",
      "_________________________________________________________________\n",
      " Layer (type)                Output Shape              Param #   \n",
      "=================================================================\n",
      " input_2 (InputLayer)        [(None, 299, 299, 3)]     0         \n",
      "                                                                 \n",
      " batch_normalization_203 (Ba  (None, 299, 299, 3)      12        \n",
      " tchNormalization)                                               \n",
      "                                                                 \n",
      " inception_resnet_v2 (Functi  (None, 8, 8, 1536)       54336736  \n",
      " onal)                                                           \n",
      "                                                                 \n",
      " conv2d_203 (Conv2D)         (None, 8, 8, 128)         196736    \n",
      "                                                                 \n",
      " flatten (Flatten)           (None, 8192)              0         \n",
      "                                                                 \n",
      " dropout (Dropout)           (None, 8192)              0         \n",
      "                                                                 \n",
      " dense (Dense)               (None, 512)               4194816   \n",
      "                                                                 \n",
      " dropout_1 (Dropout)         (None, 512)               0         \n",
      "                                                                 \n",
      " dense_1 (Dense)             (None, 28)                14364     \n",
      "                                                                 \n",
      "=================================================================\n",
      "Total params: 58,742,664\n",
      "Trainable params: 4,405,922\n",
      "Non-trainable params: 54,336,742\n",
      "_________________________________________________________________\n"
     ]
    }
   ],
   "source": [
    "loaded_model.summary()"
   ]
  },
  {
   "cell_type": "code",
   "execution_count": null,
   "id": "7323c229-ba94-45c1-83a4-51bffda9a3a2",
   "metadata": {},
   "outputs": [],
   "source": []
  }
 ],
 "metadata": {
  "kernelspec": {
   "display_name": "Python 3 (ipykernel)",
   "language": "python",
   "name": "python3"
  },
  "language_info": {
   "codemirror_mode": {
    "name": "ipython",
    "version": 3
   },
   "file_extension": ".py",
   "mimetype": "text/x-python",
   "name": "python",
   "nbconvert_exporter": "python",
   "pygments_lexer": "ipython3",
   "version": "3.10.12"
  }
 },
 "nbformat": 4,
 "nbformat_minor": 5
}
